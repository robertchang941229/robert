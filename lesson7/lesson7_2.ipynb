{
 "cells": [
  {
   "cell_type": "code",
   "execution_count": 2,
   "id": "945593c5",
   "metadata": {},
   "outputs": [
    {
     "name": "stdout",
     "output_type": "stream",
     "text": [
      "What\n",
      "Do \n",
      "You\n",
      "Do\n",
      "程式結束\n"
     ]
    }
   ],
   "source": [
    "#使用時機，不明確知道要執行幾次迴圈\n",
    "#配合條件式if,並使用break停止迴圈\n",
    "\n",
    "while(True):\n",
    "    stuff=input(\"請輸入寫寫英文字，會自動轉成大寫[按下q會離開]\")\n",
    "    if stuff=='q' or stuff=='Q':\n",
    "        break\n",
    "    print(stuff.capitalize())\n",
    "print(\"程式結束\")\n"
   ]
  },
  {
   "cell_type": "code",
   "execution_count": null,
   "id": "375c9326",
   "metadata": {},
   "outputs": [
    {
     "name": "stdout",
     "output_type": "stream",
     "text": [
      "輸入的次數是6,所有輸入的正偶數的家總是12\n"
     ]
    }
   ],
   "source": [
    "#break, contiune\n",
    "#請設計一個程式，讓使用者輸入數值，只有加總正偶數值，不加總正奇數值，如果輸入負數，結束程式。\n",
    "num=0\n",
    "sum=0\n",
    "while(True):\n",
    "    input_value=int(input(f\"請輸入第{num+1}個數值:\"))\n",
    "    if input_value<0:\n",
    "        break\n",
    "    num+=1\n",
    "    if input_value%2==1:\n",
    "        continue\n",
    "    sum+=input_value\n",
    "print(f\"輸入的次數是{num},所有輸入的正偶數的加總是{sum}\")\n"
   ]
  },
  {
   "cell_type": "code",
   "execution_count": 15,
   "id": "921881b3",
   "metadata": {},
   "outputs": [
    {
     "data": {
      "text/plain": [
       "3.141592653589793"
      ]
     },
     "execution_count": 15,
     "metadata": {},
     "output_type": "execute_result"
    }
   ],
   "source": [
    "import math\n",
    "\n",
    "math.pi"
   ]
  },
  {
   "cell_type": "markdown",
   "id": "bd558db6",
   "metadata": {},
   "source": [
    "### 猜數字遊戲"
   ]
  },
  {
   "cell_type": "code",
   "execution_count": 24,
   "id": "74d6ab75",
   "metadata": {},
   "outputs": [
    {
     "data": {
      "text/plain": [
       "18"
      ]
     },
     "execution_count": 24,
     "metadata": {},
     "output_type": "execute_result"
    }
   ],
   "source": [
    "import random\n",
    "\n",
    "guess_value=random.randint(1,100)\n",
    "guess_value"
   ]
  }
 ],
 "metadata": {
  "kernelspec": {
   "display_name": "base",
   "language": "python",
   "name": "python3"
  },
  "language_info": {
   "codemirror_mode": {
    "name": "ipython",
    "version": 3
   },
   "file_extension": ".py",
   "mimetype": "text/x-python",
   "name": "python",
   "nbconvert_exporter": "python",
   "pygments_lexer": "ipython3",
   "version": "3.13.2"
  }
 },
 "nbformat": 4,
 "nbformat_minor": 5
}
