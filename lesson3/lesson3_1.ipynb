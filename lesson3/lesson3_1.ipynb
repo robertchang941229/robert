{
 "cells": [
  {
   "cell_type": "code",
   "execution_count": 3,
   "id": "d0fc77f8",
   "metadata": {},
   "outputs": [
    {
     "data": {
      "text/plain": [
       "20.0"
      ]
     },
     "execution_count": 3,
     "metadata": {},
     "output_type": "execute_result"
    }
   ],
   "source": [
    "5+5.0\n",
    "5+5.0+10"
   ]
  },
  {
   "cell_type": "code",
   "execution_count": 5,
   "id": "e25f835b",
   "metadata": {},
   "outputs": [
    {
     "data": {
      "text/plain": [
       "20"
      ]
     },
     "execution_count": 5,
     "metadata": {},
     "output_type": "execute_result"
    }
   ],
   "source": [
    "2+3*4\n",
    "(2+3)*4"
   ]
  },
  {
   "cell_type": "code",
   "execution_count": null,
   "id": "90e61fe2",
   "metadata": {},
   "outputs": [
    {
     "data": {
      "text/plain": [
       "10"
      ]
     },
     "execution_count": 6,
     "metadata": {},
     "output_type": "execute_result"
    }
   ],
   "source": [
    "#運算式(expression)\n",
    "2*(1+2)**2-2**2*2"
   ]
  },
  {
   "cell_type": "code",
   "execution_count": null,
   "id": "b7adc310",
   "metadata": {},
   "outputs": [],
   "source": [
    "2+3*4 \n",
    "(2+3)*4\n",
    "2*(1+2)**2-2**2*2"
   ]
  },
  {
   "cell_type": "code",
   "execution_count": null,
   "id": "54c4a88f",
   "metadata": {},
   "outputs": [
    {
     "name": "stdout",
     "output_type": "stream",
     "text": [
      "14\n",
      "20\n",
      "10\n"
     ]
    }
   ],
   "source": [
    "value1=2+3*4 #敘述式\n",
    "value2=(2+3)*4 #敘述式\n",
    "value3=2*(1+2)**2-2**2*2 #敘述式\n",
    "print(value1) #敘述式\n",
    "print(value2) #敘述式\n",
    "print(value3) #敘述式"
   ]
  }
 ],
 "metadata": {
  "kernelspec": {
   "display_name": "base",
   "language": "python",
   "name": "python3"
  },
  "language_info": {
   "codemirror_mode": {
    "name": "ipython",
    "version": 3
   },
   "file_extension": ".py",
   "mimetype": "text/x-python",
   "name": "python",
   "nbconvert_exporter": "python",
   "pygments_lexer": "ipython3",
   "version": "3.13.2"
  }
 },
 "nbformat": 4,
 "nbformat_minor": 5
}
