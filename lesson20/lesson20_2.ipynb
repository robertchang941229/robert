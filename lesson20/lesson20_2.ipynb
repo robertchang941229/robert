{
 "cells": [
  {
   "cell_type": "code",
   "execution_count": 1,
   "id": "21feac95",
   "metadata": {},
   "outputs": [
    {
     "data": {
      "text/html": [
       "<div>\n",
       "<style scoped>\n",
       "    .dataframe tbody tr th:only-of-type {\n",
       "        vertical-align: middle;\n",
       "    }\n",
       "\n",
       "    .dataframe tbody tr th {\n",
       "        vertical-align: top;\n",
       "    }\n",
       "\n",
       "    .dataframe thead th {\n",
       "        text-align: right;\n",
       "    }\n",
       "</style>\n",
       "<table border=\"1\" class=\"dataframe\">\n",
       "  <thead>\n",
       "    <tr style=\"text-align: right;\">\n",
       "      <th></th>\n",
       "      <th>key1</th>\n",
       "      <th>key2</th>\n",
       "      <th>data1</th>\n",
       "      <th>data2</th>\n",
       "    </tr>\n",
       "  </thead>\n",
       "  <tbody>\n",
       "    <tr>\n",
       "      <th>0</th>\n",
       "      <td>a</td>\n",
       "      <td>one</td>\n",
       "      <td>1.086657</td>\n",
       "      <td>0.422753</td>\n",
       "    </tr>\n",
       "    <tr>\n",
       "      <th>1</th>\n",
       "      <td>a</td>\n",
       "      <td>two</td>\n",
       "      <td>1.587374</td>\n",
       "      <td>0.371380</td>\n",
       "    </tr>\n",
       "    <tr>\n",
       "      <th>2</th>\n",
       "      <td>b</td>\n",
       "      <td>one</td>\n",
       "      <td>0.010117</td>\n",
       "      <td>0.396283</td>\n",
       "    </tr>\n",
       "    <tr>\n",
       "      <th>3</th>\n",
       "      <td>b</td>\n",
       "      <td>two</td>\n",
       "      <td>0.091962</td>\n",
       "      <td>1.311165</td>\n",
       "    </tr>\n",
       "    <tr>\n",
       "      <th>4</th>\n",
       "      <td>a</td>\n",
       "      <td>one</td>\n",
       "      <td>1.072781</td>\n",
       "      <td>0.258146</td>\n",
       "    </tr>\n",
       "  </tbody>\n",
       "</table>\n",
       "</div>"
      ],
      "text/plain": [
       "  key1 key2     data1     data2\n",
       "0    a  one  1.086657  0.422753\n",
       "1    a  two  1.587374  0.371380\n",
       "2    b  one  0.010117  0.396283\n",
       "3    b  two  0.091962  1.311165\n",
       "4    a  one  1.072781  0.258146"
      ]
     },
     "execution_count": 1,
     "metadata": {},
     "output_type": "execute_result"
    }
   ],
   "source": [
    "import numpy as np\n",
    "import pandas as pd\n",
    "\n",
    "df = pd.DataFrame({'key1':['a', 'a', 'b', 'b', 'a'],\n",
    "                  'key2':['one', 'two', 'one', 'two', 'one'],\n",
    "                  'data1': np.random.randn(5),\n",
    "                  'data2':np.random.randn(5)})\n",
    "df\n"
   ]
  },
  {
   "cell_type": "code",
   "execution_count": 2,
   "id": "4c022c9a",
   "metadata": {},
   "outputs": [],
   "source": [
    "df.groupby('key1') ##DataFrame執行Groupby\n",
    "# 只對數值欄位計算平均值（避免對物件欄位套用 mean）\n",
    "mean_df=df.groupby('key1')[['data1', 'data2']].mean()"
   ]
  },
  {
   "cell_type": "code",
   "execution_count": 4,
   "id": "e11f5092",
   "metadata": {},
   "outputs": [
    {
     "data": {
      "text/plain": [
       "key1       \n",
       "a     data1    1.248937\n",
       "      data2    0.350759\n",
       "b     data1    0.051039\n",
       "      data2    0.853724\n",
       "dtype: float64"
      ]
     },
     "execution_count": 4,
     "metadata": {},
     "output_type": "execute_result"
    }
   ],
   "source": [
    "mean_df.stack()"
   ]
  },
  {
   "cell_type": "code",
   "execution_count": 8,
   "id": "67f54eae",
   "metadata": {},
   "outputs": [
    {
     "data": {
      "text/html": [
       "<div>\n",
       "<style scoped>\n",
       "    .dataframe tbody tr th:only-of-type {\n",
       "        vertical-align: middle;\n",
       "    }\n",
       "\n",
       "    .dataframe tbody tr th {\n",
       "        vertical-align: top;\n",
       "    }\n",
       "\n",
       "    .dataframe thead th {\n",
       "        text-align: right;\n",
       "    }\n",
       "</style>\n",
       "<table border=\"1\" class=\"dataframe\">\n",
       "  <thead>\n",
       "    <tr style=\"text-align: right;\">\n",
       "      <th></th>\n",
       "      <th>統計</th>\n",
       "      <th>mean</th>\n",
       "      <th>std</th>\n",
       "    </tr>\n",
       "    <tr>\n",
       "      <th>類別</th>\n",
       "      <th>資料</th>\n",
       "      <th></th>\n",
       "      <th></th>\n",
       "    </tr>\n",
       "  </thead>\n",
       "  <tbody>\n",
       "    <tr>\n",
       "      <th rowspan=\"2\" valign=\"top\">a</th>\n",
       "      <th>data1</th>\n",
       "      <td>1.248937</td>\n",
       "      <td>0.293177</td>\n",
       "    </tr>\n",
       "    <tr>\n",
       "      <th>data2</th>\n",
       "      <td>0.350759</td>\n",
       "      <td>0.084219</td>\n",
       "    </tr>\n",
       "    <tr>\n",
       "      <th rowspan=\"2\" valign=\"top\">b</th>\n",
       "      <th>data1</th>\n",
       "      <td>0.051039</td>\n",
       "      <td>0.057873</td>\n",
       "    </tr>\n",
       "    <tr>\n",
       "      <th>data2</th>\n",
       "      <td>0.853724</td>\n",
       "      <td>0.646920</td>\n",
       "    </tr>\n",
       "  </tbody>\n",
       "</table>\n",
       "</div>"
      ],
      "text/plain": [
       "統計            mean       std\n",
       "類別 資料                       \n",
       "a  data1  1.248937  0.293177\n",
       "   data2  0.350759  0.084219\n",
       "b  data1  0.051039  0.057873\n",
       "   data2  0.853724  0.646920"
      ]
     },
     "execution_count": 8,
     "metadata": {},
     "output_type": "execute_result"
    }
   ],
   "source": [
    "df1=df.groupby('key1')[['data1', 'data2']].agg(['mean','std'])\n",
    "df1 #3為資料\n",
    "df1.columns.names=[\"資料\",\"統計\"]\n",
    "df1.index.name = \"類別\"\n",
    "#樞紐分析表\n",
    "df1.stack(level=\"統計\",future_stack=True)\n",
    "df1.stack(level=\"資料\",future_stack=True)"
   ]
  }
 ],
 "metadata": {
  "kernelspec": {
   "display_name": "data_analysis",
   "language": "python",
   "name": "python3"
  },
  "language_info": {
   "codemirror_mode": {
    "name": "ipython",
    "version": 3
   },
   "file_extension": ".py",
   "mimetype": "text/x-python",
   "name": "python",
   "nbconvert_exporter": "python",
   "pygments_lexer": "ipython3",
   "version": "3.12.11"
  }
 },
 "nbformat": 4,
 "nbformat_minor": 5
}
