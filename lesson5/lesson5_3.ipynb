{
 "cells": [
  {
   "cell_type": "code",
   "execution_count": 2,
   "id": "706ab39c",
   "metadata": {},
   "outputs": [
    {
     "name": "stdout",
     "output_type": "stream",
     "text": [
      "大於等於60\n"
     ]
    }
   ],
   "source": [
    "scores=78\n",
    "\n",
    "if scores>=60:\n",
    "    print(\"大於等於60\")\n",
    "else:\n",
    "    print(\"小於60\")\n"
   ]
  },
  {
   "cell_type": "code",
   "execution_count": null,
   "id": "b7ad1a02",
   "metadata": {},
   "outputs": [
    {
     "name": "stdout",
     "output_type": "stream",
     "text": [
      "60<=scores<=80\n"
     ]
    }
   ],
   "source": [
    "#2個條件，巢狀判斷\n",
    "scores=75\n",
    "\n",
    "if scores >= 60:\n",
    "    if scores <= 80:\n",
    "        print(\"60<=scores<=80\")\n",
    "    else:\n",
    "        print(\"scores>80\")\n",
    "else:\n",
    "    print(\"scores<60\")\n"
   ]
  },
  {
   "cell_type": "code",
   "execution_count": 6,
   "id": "52444127",
   "metadata": {},
   "outputs": [
    {
     "name": "stdout",
     "output_type": "stream",
     "text": [
      "60<=scores<=80\n"
     ]
    }
   ],
   "source": [
    "#2個條件，邏輯運算子(and)\n",
    "\n",
    "scores=75\n",
    "\n",
    "if scores >= 60 and scores <= 80:\n",
    "    print(\"60<=scores<=80\")\n",
    "else:\n",
    "    print(\"scores可能大於80或小於60\")"
   ]
  },
  {
   "cell_type": "code",
   "execution_count": null,
   "id": "be1bbf28",
   "metadata": {},
   "outputs": [
    {
     "name": "stdout",
     "output_type": "stream",
     "text": [
      "60<=scores<=80\n"
     ]
    }
   ],
   "source": [
    "#2個條件，邏輯運算子(or)\n",
    "\n",
    "scores=75\n",
    "\n",
    "if scores <60 or scores > 80:\n",
    "    print(\"scores可能大於80或小於60\")\n",
    "else:\n",
    "    print(\"60<=scores<=80\")"
   ]
  },
  {
   "cell_type": "code",
   "execution_count": 7,
   "id": "a6761454",
   "metadata": {},
   "outputs": [
    {
     "name": "stdout",
     "output_type": "stream",
     "text": [
      "身高: 165.6\n",
      "體重: 66.0\n",
      "你的bmi為: 24.07\n",
      "應用程式結束\n"
     ]
    }
   ],
   "source": [
    "try:\n",
    "    h=float(input(\"請輸入身高(120~250)\"))\n",
    "    if h>120 and h<250:\n",
    "        print(\"身高:\",h)\n",
    "    else:\n",
    "        raise Exception(\"身高超出範圍\")\n",
    "    w=float(input(\"請輸入體重(30~200)\"))\n",
    "    if w>30 and w<200:\n",
    "        print(\"體重:\",w)\n",
    "    else:\n",
    "        raise Exception(\"體重超出範圍\")\n",
    "    bmi=w/(h/100)**2\n",
    "    print(\"你的bmi為:\",round(bmi,ndigits=2))\n",
    "except ValueError as e:\n",
    "    print(\"格式錯誤\",e)\n",
    "except Exception as e:\n",
    "    print(e)\n",
    "\n",
    "print(\"應用程式結束\")\n"
   ]
  }
 ],
 "metadata": {
  "kernelspec": {
   "display_name": "base",
   "language": "python",
   "name": "python3"
  },
  "language_info": {
   "codemirror_mode": {
    "name": "ipython",
    "version": 3
   },
   "file_extension": ".py",
   "mimetype": "text/x-python",
   "name": "python",
   "nbconvert_exporter": "python",
   "pygments_lexer": "ipython3",
   "version": "3.13.2"
  }
 },
 "nbformat": 4,
 "nbformat_minor": 5
}
