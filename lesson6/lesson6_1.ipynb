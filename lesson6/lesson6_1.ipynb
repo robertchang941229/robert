{
 "cells": [
  {
   "cell_type": "code",
   "execution_count": 11,
   "id": "af0fd991",
   "metadata": {},
   "outputs": [
    {
     "name": "stdout",
     "output_type": "stream",
     "text": [
      "身高: 166.0\n",
      "體重: 66.0\n",
      "你的bmi為: 23.95\n",
      "應用程式結束\n"
     ]
    }
   ],
   "source": [
    "#練習\n",
    "try:\n",
    "    h=float(input(\"請輸入身高(120~250)\"))\n",
    "    if h>120 and h<250:\n",
    "        print(\"身高:\",h)\n",
    "    else:\n",
    "        raise Exception(\"身高超出範圍\")\n",
    "    w=float(input(\"請輸入體重(30~200)\"))\n",
    "    if w>30 and w<200:\n",
    "        print(\"體重:\",w)\n",
    "    else:\n",
    "        raise Exception(\"體重超出範圍\")\n",
    "    bmi=w/(h/100)**2\n",
    "    print(\"你的bmi為:\",round(bmi,ndigits=2))\n",
    "\n",
    "    \n",
    "except ValueError as e:\n",
    "    print(\"格式錯誤\",e)\n",
    "except Exception as e:\n",
    "    print(e)\n",
    "\n",
    "#多行註解    \n",
    "\"\"\"else:\n",
    "    bmi=w/(h/100)**2\n",
    "    print(\"你的bmi為:\",round(bmi,ndigits=2))\n",
    "\"\"\"\n",
    "print(\"應用程式結束\")"
   ]
  },
  {
   "cell_type": "code",
   "execution_count": 4,
   "id": "98806283",
   "metadata": {},
   "outputs": [
    {
     "name": "stdout",
     "output_type": "stream",
     "text": [
      "  您的身高為: 166.0 cm\n",
      "  您的體重為: 66.0 kg\n",
      "👉您的BMI為: 24.0 (kg/m²)\n",
      "～應用程式結束～\n"
     ]
    }
   ],
   "source": [
    "try:\n",
    "    height = float(input(\"請輸入身高(120-250(cm))\"))\n",
    "    if 120 <= height <= 250:\n",
    "        print(\"  您的身高為:\",height,\"cm\")\n",
    "    else:\n",
    "        raise Exception(\"身高數字需在120~250(cm)內\")\n",
    "    weight = float(input(\"請輸入體重(30~200(kg))\"))\n",
    "    if 30 <= weight <= 200:\n",
    "        print(\"  您的體重為:\",weight,\"kg\")\n",
    "    else:\n",
    "        raise Exception(\"體重數字需在30~200(kg)內\")\n",
    "except ValueError as e:\n",
    "    print(\"格式錯誤\",e)\n",
    "except Exception as e:\n",
    "    print(e)\n",
    "else:\n",
    "    BMI = weight / (height / 100) ** 2\n",
    "    print(\"👉您的BMI為:\",round(BMI,ndigits = 1),\"(kg/m²)\")\n",
    "finally:\n",
    "    print(\"～應用程式結束～\")"
   ]
  },
  {
   "cell_type": "code",
   "execution_count": 7,
   "id": "05a2e953",
   "metadata": {},
   "outputs": [
    {
     "name": "stdout",
     "output_type": "stream",
     "text": [
      "您的體重為: 66.0 kg\n",
      "您的身高為: 166.0 cm\n",
      "👉您的BMI為: 24.0 (kg/m²)\n",
      "～應用程式結束～\n"
     ]
    }
   ],
   "source": [
    "try:\n",
    "    height = float(input(\"請輸入身高(120-250(cm))\"))\n",
    "    if not(120 <= height <= 250):\n",
    "      raise Exception(\"身高數字需在120~250(cm)內\")\n",
    "\n",
    "    weight = float(input(\"請輸入體重(30~200(kg))\"))\n",
    "    if not(30 <= weight <= 200):\n",
    "      raise Exception(\"體重數字需在30~200(kg)內\")\n",
    "\n",
    "    print(\"您的體重為:\",weight,\"kg\")\n",
    "    print(\"您的身高為:\",height,\"cm\")\n",
    "\n",
    "except ValueError as e:\n",
    "    print(\"格式錯誤\",e)\n",
    "except Exception as e:\n",
    "    print(e)\n",
    "else:\n",
    "    BMI = weight / (height / 100) ** 2\n",
    "    print(\"👉您的BMI為:\",round(BMI,ndigits = 1),\"(kg/m²)\")\n",
    "finally:\n",
    "    print(\"～應用程式結束～\")"
   ]
  }
 ],
 "metadata": {
  "kernelspec": {
   "display_name": "base",
   "language": "python",
   "name": "python3"
  },
  "language_info": {
   "codemirror_mode": {
    "name": "ipython",
    "version": 3
   },
   "file_extension": ".py",
   "mimetype": "text/x-python",
   "name": "python",
   "nbconvert_exporter": "python",
   "pygments_lexer": "ipython3",
   "version": "3.13.2"
  }
 },
 "nbformat": 4,
 "nbformat_minor": 5
}
