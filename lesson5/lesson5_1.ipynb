{
 "cells": [
  {
   "cell_type": "code",
   "execution_count": null,
   "id": "c1efc4c9",
   "metadata": {},
   "outputs": [],
   "source": [
    "#學生總分為300\n",
    "#有些學生可以加分5%\n",
    "\n",
    "scores=int(input(\"請輸入學生分數(最高300):\"))\n",
    "is_add=input(\"學生是否符合加分條件?(y,n)\")\n",
    "\n",
    "if is_add == \"y\":  #單向選擇\n",
    "    scores*=1.05\n",
    "\n",
    "print(\"學生總分是:\",round(scores))"
   ]
  },
  {
   "cell_type": "code",
   "execution_count": 3,
   "id": "c5ab751d",
   "metadata": {},
   "outputs": [
    {
     "name": "stdout",
     "output_type": "stream",
     "text": [
      "學生總分是: 300\n"
     ]
    }
   ],
   "source": [
    "#學生總分為300\n",
    "#有些學生可以加分5%\n",
    "\n",
    "scores=int(input(\"請輸入學生分數(最高300):\"))\n",
    "is_add=input(\"學生是否符合加分條件?(y,n)\")\n",
    "\n",
    "if is_add == \"y\":  #單向選擇\n",
    "    scores*=1.05\n",
    "    if scores>300: #巢狀判斷\n",
    "        scores=300\n",
    "    print(\"學生總分是:\",round(scores))\n",
    "else:\n",
    "    print(\"總分不得超過300分\")\n"
   ]
  },
  {
   "cell_type": "code",
   "execution_count": 4,
   "id": "ae71b874",
   "metadata": {},
   "outputs": [
    {
     "name": "stdout",
     "output_type": "stream",
     "text": [
      "總分不得超過300分\n",
      "應用程式結束\n"
     ]
    }
   ],
   "source": [
    "#學生總分為300\n",
    "#有些學生可以加分5%\n",
    "\n",
    "scores=int(input(\"請輸入學生分數(最高300):\"))\n",
    "if scores<=300:\n",
    "    is_add=input(\"學生是否符合加分條件?(y,n)\")\n",
    "\n",
    "    if is_add == \"y\":  #單向選擇\n",
    "        scores*=1.05\n",
    "        if scores>300: #巢狀判斷\n",
    "            scores=300\n",
    "\n",
    "    print(\"學生總分是:\",round(scores))\n",
    "else:\n",
    "    print(\"總分不得超過300分\")\n",
    "    \n",
    "print(\"應用程式結束\")"
   ]
  },
  {
   "cell_type": "code",
   "execution_count": null,
   "id": "7d3d7e9a",
   "metadata": {},
   "outputs": [
    {
     "name": "stdout",
     "output_type": "stream",
     "text": [
      "格式錯誤\n",
      "應用程式結束\n"
     ]
    }
   ],
   "source": [
    "try:\n",
    "    money=int(input(\"請輸入金額:\")) #except indexError:指定特定exception\n",
    "    print(\"金額是:\",money)\n",
    "except:\n",
    "    print(\"格式錯誤\")\n",
    "    \n",
    "print(\"應用程式結束\")"
   ]
  },
  {
   "cell_type": "code",
   "execution_count": 3,
   "id": "e52e063f",
   "metadata": {},
   "outputs": [
    {
     "name": "stdout",
     "output_type": "stream",
     "text": [
      "格式錯誤\n",
      "應用程式結束\n"
     ]
    }
   ],
   "source": [
    "try:\n",
    "    money=int(input(\"請輸入金額:\")) #except indexError:指定特定exception\n",
    "except IndexError:\n",
    "    print(\"索引錯誤\")\n",
    "except ValueError:\n",
    "    print(\"格式錯誤\")\n",
    "except:\n",
    "    print(\"不知名的錯誤\")\n",
    "    \n",
    "print(\"應用程式結束\")"
   ]
  },
  {
   "cell_type": "code",
   "execution_count": 2,
   "id": "4a54c53e",
   "metadata": {},
   "outputs": [
    {
     "name": "stdout",
     "output_type": "stream",
     "text": [
      "格式錯誤 invalid literal for int() with base 10: '302a'\n",
      "應用程式結束\n"
     ]
    }
   ],
   "source": [
    "try:\n",
    "    money=int(input(\"請輸入金額:\")) #except indexError:指定特定exception\n",
    "except IndexError as e:\n",
    "    print(\"索引錯誤\",e)\n",
    "except ValueError as e:\n",
    "    print(\"格式錯誤\",e)\n",
    "except:\n",
    "    print(\"不知名的錯誤\")\n",
    "    \n",
    "print(\"應用程式結束\")"
   ]
  },
  {
   "cell_type": "code",
   "execution_count": null,
   "id": "949aac9d",
   "metadata": {},
   "outputs": [
    {
     "name": "stdout",
     "output_type": "stream",
     "text": [
      "格式錯誤 invalid literal for int() with base 10: '123a'\n",
      "結束internet連線\n",
      "應用程式結束\n"
     ]
    }
   ],
   "source": [
    "try:\n",
    "    money=int(input(\"請輸入金額:\")) #except indexError:指定特定exception\n",
    "except IndexError as e:\n",
    "    print(\"索引錯誤\",e)\n",
    "except ValueError as e:\n",
    "    print(\"格式錯誤\",e)\n",
    "except:\n",
    "    print(\"不知名的錯誤\")\n",
    "else:                      #try中沒有發生錯誤\n",
    "    print(\"沒有出現錯誤\")\n",
    "finally:                   #無論是否發生例外，都會執行的程式碼，通常用來做資源清理。\n",
    "    print(\"結束internet連線\")\n",
    "    \n",
    "print(\"應用程式結束\")"
   ]
  },
  {
   "cell_type": "code",
   "execution_count": 9,
   "id": "35db4253",
   "metadata": {},
   "outputs": [
    {
     "name": "stdout",
     "output_type": "stream",
     "text": [
      "金額是: 123\n",
      "應用程式結束\n"
     ]
    }
   ],
   "source": [
    "try:\n",
    "    money=int(input(\"請輸入金額:\")) #except indexError:指定特定exception\n",
    "    print(\"金額是:\",money)\n",
    "except:\n",
    "    print(\"格式錯誤\")\n",
    "    \n",
    "print(\"應用程式結束\")"
   ]
  }
 ],
 "metadata": {
  "kernelspec": {
   "display_name": "base",
   "language": "python",
   "name": "python3"
  },
  "language_info": {
   "codemirror_mode": {
    "name": "ipython",
    "version": 3
   },
   "file_extension": ".py",
   "mimetype": "text/x-python",
   "name": "python",
   "nbconvert_exporter": "python",
   "pygments_lexer": "ipython3",
   "version": "3.13.2"
  }
 },
 "nbformat": 4,
 "nbformat_minor": 5
}
