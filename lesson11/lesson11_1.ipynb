{
 "cells": [
  {
   "cell_type": "code",
   "execution_count": null,
   "id": "04840214",
   "metadata": {},
   "outputs": [],
   "source": [
    "#有一個names.txt\n",
    "#讀取names.txt\n",
    "#請隨機取出3個名字\n",
    "#建立2維的list,結構如下\n",
    "#每個姓名有3個分數,分數是(50~100)的隨機數\n",
    "#輸出結果：[['陳怡伶',67,92,97],['馮芳如',98,86,75],['蒙淑惠',76,65,59]]\n",
    "\n",
    "import random\n",
    "with open(\"names.txt\", encoding=\"utf-8\") as file:\n",
    "    content: str = file.read()\n",
    "    names: list = content.split(\"\\n\")\n",
    "    names = random.sample(names, 3)  # 隨機取出3個名字\n",
    "    scores: list = [[random.randint(50, 100) for _ in range(3)] for _ in names]\n",
    "    names = [[name] + score for name, score in zip(names, scores)]  # 合併姓名和分數\n",
    "    print(names)\n"
   ]
  },
  {
   "cell_type": "code",
   "execution_count": null,
   "id": "bdc93849",
   "metadata": {},
   "outputs": [
    {
     "name": "stdout",
     "output_type": "stream",
     "text": [
      "[['林佳慧', 80, 83, 75], ['林冠蕙', 91, 98, 82], ['張彥博', 83, 71, 55]]\n"
     ]
    }
   ],
   "source": [
    "#有一個names.txt\n",
    "#讀取names.txt\n",
    "#請隨機取出3個名字\n",
    "import random\n",
    "\n",
    "def sample_names_from_file(file_name: str, nums: int = 1) -> list[str]:\n",
    "    \"\"\"\n",
    "    從指定的檔案中讀取所有姓名，並隨機取出指定數量的姓名。\n",
    "\n",
    "    參數:\n",
    "        file_name (str): 檔案名稱，檔案內容為姓名，每行一個。\n",
    "        nums (int): 要隨機取出的姓名數量，預設為1。\n",
    "\n",
    "    回傳:\n",
    "        list[str]: 隨機取出的姓名列表。\n",
    "    \"\"\"\n",
    "    with open(file_name, encoding=\"utf-8\") as file:\n",
    "        content: str = file.read()\n",
    "        names: list[str] = content.split()\n",
    "        return random.sample(names, nums)\n",
    "    \n",
    "#建立一個自訂function,這個參數會傳入一個name\n",
    "#建立2維的list,結構如下\n",
    "#每個姓名有3個分數,分數是(50~100)的隨機數\n",
    "#輸出結果：[['陳怡伶',67,92,97],['馮芳如',98,86,75],['蒙淑惠',76,65,59]]\n",
    "def generate_scores_for_names(names: list[str]) -> list[list]:\n",
    "    \"\"\"\n",
    "    為每個姓名生成3個隨機分數。\n",
    "\n",
    "    參數:\n",
    "        names (list[str]): 姓名列表。\n",
    "\n",
    "    回傳:\n",
    "        list[list]: 包含姓名和3個隨機分數的2維列表。\n",
    "    \"\"\"\n",
    "    result_list = []\n",
    "    for person_name in names:\n",
    "        person_scores = [person_name] + [random.randint(50, 100) for _ in range(3)]  #for _ in range(3)省略i\n",
    "        result_list.append(person_scores)\n",
    "\n",
    "    return result_list\n",
    "\n",
    "def main():\n",
    "    names: list[str] = sample_names_from_file(\"names.txt\", nums=3)\n",
    "    scores:list[list]=generate_scores_for_names(names)\n",
    "    print(scores)\n",
    "\n",
    "if __name__ == \"__main__\":\n",
    "    main()"
   ]
  },
  {
   "cell_type": "code",
   "execution_count": null,
   "id": "ef69ee75",
   "metadata": {},
   "outputs": [
    {
     "data": {
      "text/plain": [
       "'Taiwan'"
      ]
     },
     "execution_count": 11,
     "metadata": {},
     "output_type": "execute_result"
    }
   ],
   "source": [
    "#dict,一組有關聯的資料\n",
    "#Mapping(映射) {key:value,key:value,key:value}\n",
    "#tuple (xxx,xxx,xxx)   index[xxx,xxx,xxx] ->sequence\n",
    "country_codes = {\n",
    "\t\"tw\": \"Taiwan\",\n",
    "\t\"jp\": \"Japan\",\n",
    "\t\"us\": \"United States\"\n",
    "}\n",
    "country_codes[\"es\"]= \"Spain\"  # 新增一個國家\n",
    "country_codes[\"tw\"]"
   ]
  },
  {
   "cell_type": "code",
   "execution_count": 10,
   "id": "2ad97e82",
   "metadata": {},
   "outputs": [
    {
     "data": {
      "text/plain": [
       "{'tw': 'Taiwan', 'jp': 'Japan', 'us': 'United States', 'es': 'Spain'}"
      ]
     },
     "execution_count": 10,
     "metadata": {},
     "output_type": "execute_result"
    }
   ],
   "source": [
    "country_codes[\"jp\"] # 取得日本的名稱\n",
    "country_codes"
   ]
  },
  {
   "cell_type": "code",
   "execution_count": null,
   "id": "c1381610",
   "metadata": {},
   "outputs": [],
   "source": []
  }
 ],
 "metadata": {
  "kernelspec": {
   "display_name": "base",
   "language": "python",
   "name": "python3"
  },
  "language_info": {
   "codemirror_mode": {
    "name": "ipython",
    "version": 3
   },
   "file_extension": ".py",
   "mimetype": "text/x-python",
   "name": "python",
   "nbconvert_exporter": "python",
   "pygments_lexer": "ipython3",
   "version": "3.13.2"
  }
 },
 "nbformat": 4,
 "nbformat_minor": 5
}
