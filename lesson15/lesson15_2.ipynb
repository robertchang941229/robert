{
 "cells": [
  {
   "cell_type": "code",
   "execution_count": null,
   "id": "0d00231d",
   "metadata": {},
   "outputs": [
    {
     "data": {
      "text/plain": [
       "array([ 0, 10, 20, 30, 40, 50, 60, 70, 80, 90])"
      ]
     },
     "execution_count": 1,
     "metadata": {},
     "output_type": "execute_result"
    }
   ],
   "source": [
    "import numpy as np\n",
    "arr=np.arange(10)*10\n",
    "arr"
   ]
  },
  {
   "cell_type": "code",
   "execution_count": null,
   "id": "7a4100eb",
   "metadata": {},
   "outputs": [
    {
     "data": {
      "text/plain": [
       "array([ 0, 10, 20, 30, 40])"
      ]
     },
     "execution_count": 4,
     "metadata": {},
     "output_type": "execute_result"
    }
   ],
   "source": [
    "#索引(index)\n",
    "arr[1]\n",
    "\n",
    "#slice\n",
    "arr[:5] #前5個\n",
    "arr[-5:] #最後5個"
   ]
  },
  {
   "cell_type": "code",
   "execution_count": 5,
   "id": "377225d4",
   "metadata": {},
   "outputs": [
    {
     "data": {
      "text/plain": [
       "array([[ 58,  81,  96,  57,  79],\n",
       "       [ 92,  71,  63,  65,  53],\n",
       "       [ 65,  59,  94,  77,  73],\n",
       "       [ 51,  60,  60,  99,  95],\n",
       "       [ 92,  68,  58,  85,  86],\n",
       "       [ 66,  96,  71,  55,  57],\n",
       "       [ 85,  52,  66,  86,  90],\n",
       "       [ 81,  65,  55,  86,  52],\n",
       "       [ 58,  57,  80,  57,  88],\n",
       "       [ 76,  57,  58,  67,  90],\n",
       "       [ 67,  74,  52,  98,  68],\n",
       "       [ 51,  87,  82,  53,  71],\n",
       "       [ 68,  61,  66,  53,  97],\n",
       "       [ 56,  62,  70,  60,  73],\n",
       "       [ 93,  67,  74,  50,  74],\n",
       "       [ 97, 100,  80,  53,  96],\n",
       "       [ 71,  94,  98,  61,  86],\n",
       "       [ 93,  53,  64,  72,  67],\n",
       "       [ 93,  71,  83,  87,  95],\n",
       "       [ 99,  90,  87,  60,  90],\n",
       "       [ 85,  64,  95,  74,  92],\n",
       "       [ 55,  77,  71,  58,  50],\n",
       "       [ 53,  82,  72,  65,  85],\n",
       "       [ 65,  64,  67,  86,  72],\n",
       "       [ 80,  93,  78,  78,  94],\n",
       "       [ 98,  81,  69,  89,  82],\n",
       "       [ 75,  85,  59,  79,  98],\n",
       "       [ 53,  69,  76,  87,  98],\n",
       "       [ 75, 100,  92,  73,  79],\n",
       "       [ 81,  78,  94,  52,  89],\n",
       "       [ 61,  52,  88,  69,  62],\n",
       "       [ 79, 100,  98,  55,  65],\n",
       "       [ 94,  88, 100,  54,  58],\n",
       "       [ 77,  56,  74,  82,  57],\n",
       "       [ 83,  80,  50,  59,  56],\n",
       "       [ 62,  58,  92, 100,  64],\n",
       "       [ 76,  55,  74,  78,  83],\n",
       "       [ 87,  91,  60,  95,  69],\n",
       "       [ 74,  69,  90,  81,  75],\n",
       "       [ 70,  69,  57,  77,  67],\n",
       "       [ 57,  61,  65,  56,  86],\n",
       "       [ 71,  95,  82,  98,  86],\n",
       "       [ 92,  92,  84,  96,  79],\n",
       "       [ 78,  86,  73,  67,  90],\n",
       "       [ 79,  82,  71,  50,  85],\n",
       "       [ 74,  96,  58,  58,  93],\n",
       "       [ 61,  60,  71,  92,  97],\n",
       "       [ 84,  78,  86,  55,  61],\n",
       "       [ 91,  52,  53,  63,  94],\n",
       "       [ 83,  95,  50,  91,  65]])"
      ]
     },
     "execution_count": 5,
     "metadata": {},
     "output_type": "execute_result"
    }
   ],
   "source": [
    "scores = np.random.randint(50,101, size=(50, 5))\n",
    "scores"
   ]
  },
  {
   "cell_type": "code",
   "execution_count": 8,
   "id": "fa933cc7",
   "metadata": {},
   "outputs": [
    {
     "data": {
      "text/plain": [
       "array([[58, 81, 96, 57, 79]])"
      ]
     },
     "execution_count": 8,
     "metadata": {},
     "output_type": "execute_result"
    }
   ],
   "source": [
    "#第一位學生的分數\n",
    "scores[0] #(5,)\n",
    "scores[0,:] #(5,)\n",
    "scores[0:1,:] #(1,5)"
   ]
  },
  {
   "cell_type": "code",
   "execution_count": 12,
   "id": "9932ad20",
   "metadata": {},
   "outputs": [
    {
     "data": {
      "text/plain": [
       "array([[58, 81, 96],\n",
       "       [92, 71, 63],\n",
       "       [65, 59, 94],\n",
       "       [51, 60, 60],\n",
       "       [92, 68, 58]])"
      ]
     },
     "execution_count": 12,
     "metadata": {},
     "output_type": "execute_result"
    }
   ],
   "source": [
    "#前5位學生\n",
    "scores[:5]\n",
    "#前5位學生,前3個分數\n",
    "scores[:5,:3]"
   ]
  },
  {
   "cell_type": "code",
   "execution_count": 9,
   "id": "22551a76",
   "metadata": {},
   "outputs": [
    {
     "data": {
      "text/plain": [
       "array([ 96,  63,  94,  60,  58,  71,  66,  55,  80,  58,  52,  82,  66,\n",
       "        70,  74,  80,  98,  64,  83,  87,  95,  71,  72,  67,  78,  69,\n",
       "        59,  76,  92,  94,  88,  98, 100,  74,  50,  92,  74,  60,  90,\n",
       "        57,  65,  82,  84,  73,  71,  58,  71,  86,  53,  50])"
      ]
     },
     "execution_count": 9,
     "metadata": {},
     "output_type": "execute_result"
    }
   ],
   "source": [
    "#第1科分數\n",
    "scores[:,0]\n",
    "scores[:,1]\n",
    "scores[:,2]"
   ]
  },
  {
   "cell_type": "code",
   "execution_count": 10,
   "id": "1fc1e543",
   "metadata": {},
   "outputs": [
    {
     "data": {
      "text/plain": [
       "array([371, 344, 368, 365, 389, 345, 379, 339, 340, 348, 359, 344, 345,\n",
       "       321, 358, 426, 410, 349, 429, 426, 410, 311, 357, 354, 423, 419,\n",
       "       396, 383, 419, 394, 332, 397, 394, 346, 328, 376, 366, 402, 389,\n",
       "       340, 325, 432, 443, 394, 367, 379, 381, 364, 353, 384])"
      ]
     },
     "execution_count": 10,
     "metadata": {},
     "output_type": "execute_result"
    }
   ],
   "source": [
    "#ndarray可以陣列運算\n",
    "total = scores[:,0] + scores[:,1] + scores[:,2] + scores[:,3] + scores[:,4]\n",
    "total"
   ]
  },
  {
   "cell_type": "code",
   "execution_count": 11,
   "id": "ab6b8071",
   "metadata": {},
   "outputs": [
    {
     "data": {
      "text/plain": [
       "array([74.2, 68.8, 73.6, 73. , 77.8, 69. , 75.8, 67.8, 68. , 69.6, 71.8,\n",
       "       68.8, 69. , 64.2, 71.6, 85.2, 82. , 69.8, 85.8, 85.2, 82. , 62.2,\n",
       "       71.4, 70.8, 84.6, 83.8, 79.2, 76.6, 83.8, 78.8, 66.4, 79.4, 78.8,\n",
       "       69.2, 65.6, 75.2, 73.2, 80.4, 77.8, 68. , 65. , 86.4, 88.6, 78.8,\n",
       "       73.4, 75.8, 76.2, 72.8, 70.6, 76.8])"
      ]
     },
     "execution_count": 11,
     "metadata": {},
     "output_type": "execute_result"
    }
   ],
   "source": [
    "total/5"
   ]
  },
  {
   "cell_type": "code",
   "execution_count": 15,
   "id": "1978f492",
   "metadata": {},
   "outputs": [
    {
     "data": {
      "text/plain": [
       "array([74.2, 68.8, 73.6, 73. , 77.8, 69. , 75.8, 67.8, 68. , 69.6, 71.8,\n",
       "       68.8, 69. , 64.2, 71.6, 85.2, 82. , 69.8, 85.8, 85.2, 82. , 62.2,\n",
       "       71.4, 70.8, 84.6, 83.8, 79.2, 76.6, 83.8, 78.8, 66.4, 79.4, 78.8,\n",
       "       69.2, 65.6, 75.2, 73.2, 80.4, 77.8, 68. , 65. , 86.4, 88.6, 78.8,\n",
       "       73.4, 75.8, 76.2, 72.8, 70.6, 76.8])"
      ]
     },
     "execution_count": 15,
     "metadata": {},
     "output_type": "execute_result"
    }
   ],
   "source": [
    "#np內的function\n",
    "np.sum(scores,axis=1)\n",
    "np.mean(scores,axis=1)"
   ]
  },
  {
   "cell_type": "code",
   "execution_count": 18,
   "id": "f014b66e",
   "metadata": {},
   "outputs": [
    {
     "data": {
      "text/plain": [
       "array([74.2, 68.8, 73.6, 73. , 77.8, 69. , 75.8, 67.8, 68. , 69.6, 71.8,\n",
       "       68.8, 69. , 64.2, 71.6, 85.2, 82. , 69.8, 85.8, 85.2, 82. , 62.2,\n",
       "       71.4, 70.8, 84.6, 83.8, 79.2, 76.6, 83.8, 78.8, 66.4, 79.4, 78.8,\n",
       "       69.2, 65.6, 75.2, 73.2, 80.4, 77.8, 68. , 65. , 86.4, 88.6, 78.8,\n",
       "       73.4, 75.8, 76.2, 72.8, 70.6, 76.8])"
      ]
     },
     "execution_count": 18,
     "metadata": {},
     "output_type": "execute_result"
    }
   ],
   "source": [
    "#實體方法\n",
    "scores.sum(axis=1)\n",
    "scores.mean(axis=1)\n"
   ]
  }
 ],
 "metadata": {
  "kernelspec": {
   "display_name": "data_analysis",
   "language": "python",
   "name": "python3"
  },
  "language_info": {
   "codemirror_mode": {
    "name": "ipython",
    "version": 3
   },
   "file_extension": ".py",
   "mimetype": "text/x-python",
   "name": "python",
   "nbconvert_exporter": "python",
   "pygments_lexer": "ipython3",
   "version": "3.12.11"
  }
 },
 "nbformat": 4,
 "nbformat_minor": 5
}
