{
 "cells": [
  {
   "cell_type": "code",
   "execution_count": null,
   "id": "73c7425d",
   "metadata": {},
   "outputs": [],
   "source": [
    "try:\n",
    "    height = float(input(\"請輸入身高(120-250(cm))\"))\n",
    "    if not(120 <= height <= 250):\n",
    "        raise Exception(\"身高數字需在120~250(cm)內\")\n",
    "     \n",
    "    weight = float(input(\"請輸入體重(30~200(kg))\"))\n",
    "    if not(30 <= weight <= 200):\n",
    "        raise Exception(\"體重數字需在30~200(kg)內\")\n",
    "    \n",
    "    print(\"您的身高為:\",height,\"cm\")\n",
    "    print(\"您的體重為:\",weight,\"kg\")\n",
    "         \n",
    "except ValueError as e:\n",
    "    print(\"格式錯誤\",e)\n",
    "except Exception as e:\n",
    "    print(e)\n",
    "else:\n",
    "    bmi = weight / (height / 100) ** 2\n",
    "    print(\"您的BMI為:\",round(bmi,ndigits = 1),\"(kg/m²)\") \n",
    "    if bmi<18.5:\n",
    "        bmi=\"過輕\"\n",
    "    elif bmi<24:\n",
    "        bmi=\"正常範圍\"\n",
    "    elif bmi<27:\n",
    "        bmi=\"過重\"\n",
    "    elif bmi<30:\n",
    "        bmi=\"輕度肥胖\"\n",
    "    elif bmi<35:\n",
    "        bmi=\"中度肥胖\"\n",
    "    else:\n",
    "        bmi=\"重度肥胖\"\n",
    "    print(\"BMI狀態為:\",bmi)\n",
    "    \n",
    "finally:\n",
    "    print(\"～應用程式結束～\")"
   ]
  },
  {
   "cell_type": "code",
   "execution_count": 1,
   "id": "0d0ca130",
   "metadata": {},
   "outputs": [
    {
     "name": "stdout",
     "output_type": "stream",
     "text": [
      "10 的因數：1 2 5 10 "
     ]
    }
   ],
   "source": [
    "value = int(input(\"請輸入一整數：\"))\n",
    "print(f\"{value} 的因數：\",end='')\n",
    "\n",
    "factor = 1\n",
    "while (factor <= value):\n",
    "    if value % factor == 0:\n",
    "        print(factor,end=' ')\n",
    "    factor += 1"
   ]
  },
  {
   "cell_type": "code",
   "execution_count": 3,
   "id": "6f7bb8b5",
   "metadata": {},
   "outputs": [
    {
     "name": "stdout",
     "output_type": "stream",
     "text": [
      "100 及 10 的公因數：1 2 5 10 "
     ]
    }
   ],
   "source": [
    "value1 = int(input(\"請輸入第一個整數：\"))\n",
    "value2 = int(input(\"請輸入第二個整數：\"))\n",
    "print(f\"{value1} 及 {value2} 的公因數：\",end='')\n",
    "\n",
    "factor = 1\n",
    "while (factor <= value1 and factor <= value2):\n",
    "    if value1 % factor == 0 and value2 % factor == 0:\n",
    "        print(factor,end=' ')\n",
    "    factor += 1"
   ]
  }
 ],
 "metadata": {
  "kernelspec": {
   "display_name": "base",
   "language": "python",
   "name": "python3"
  },
  "language_info": {
   "codemirror_mode": {
    "name": "ipython",
    "version": 3
   },
   "file_extension": ".py",
   "mimetype": "text/x-python",
   "name": "python",
   "nbconvert_exporter": "python",
   "pygments_lexer": "ipython3",
   "version": "3.13.2"
  }
 },
 "nbformat": 4,
 "nbformat_minor": 5
}
