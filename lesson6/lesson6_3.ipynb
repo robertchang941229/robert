{
 "cells": [
  {
   "cell_type": "code",
   "execution_count": null,
   "id": "e9460734",
   "metadata": {},
   "outputs": [],
   "source": [
    "total=0\n",
    "total+=1\n",
    "total+=2\n",
    "total+=3\n",
    "total+=4\n",
    "total+=5\n",
    "total+=6\n",
    "total+=7\n",
    "total+=8\n",
    "total+=9\n",
    "total+=10\n",
    "total"
   ]
  },
  {
   "cell_type": "code",
   "execution_count": null,
   "id": "4ad7c287",
   "metadata": {},
   "outputs": [],
   "source": [
    "for word in 'abcde':\n",
    "  print(word)"
   ]
  },
  {
   "cell_type": "code",
   "execution_count": null,
   "id": "37a0d4da",
   "metadata": {},
   "outputs": [
    {
     "data": {
      "text/plain": [
       "range(1, 10, 2)"
      ]
     },
     "execution_count": 2,
     "metadata": {},
     "output_type": "execute_result"
    }
   ],
   "source": [
    "range(5) #0~4\n",
    "range(1,5) #1~4\n",
    "range(1,10,2) #1,3,5,7,9"
   ]
  },
  {
   "cell_type": "code",
   "execution_count": 7,
   "id": "e4fcca60",
   "metadata": {},
   "outputs": [
    {
     "name": "stdout",
     "output_type": "stream",
     "text": [
      "5050\n"
     ]
    }
   ],
   "source": [
    "total=0\n",
    "for i in range(1,101):\n",
    "    total+=i\n",
    "print(total)\n"
   ]
  },
  {
   "cell_type": "code",
   "execution_count": null,
   "id": "dc537d0f",
   "metadata": {},
   "outputs": [
    {
     "name": "stdout",
     "output_type": "stream",
     "text": [
      "i= 1\n",
      "j= 1 j= 2 j= 3 j= 4 j= 5 j= 6 j= 7 j= 8 j= 9 \n",
      "=====\n",
      "i= 2\n",
      "j= 1 j= 2 j= 3 j= 4 j= 5 j= 6 j= 7 j= 8 j= 9 \n",
      "=====\n",
      "i= 3\n",
      "j= 1 j= 2 j= 3 j= 4 j= 5 j= 6 j= 7 j= 8 j= 9 \n",
      "=====\n",
      "i= 4\n",
      "j= 1 j= 2 j= 3 j= 4 j= 5 j= 6 j= 7 j= 8 j= 9 \n",
      "=====\n",
      "i= 5\n",
      "j= 1 j= 2 j= 3 j= 4 j= 5 j= 6 j= 7 j= 8 j= 9 \n",
      "=====\n",
      "i= 6\n",
      "j= 1 j= 2 j= 3 j= 4 j= 5 j= 6 j= 7 j= 8 j= 9 \n",
      "=====\n",
      "i= 7\n",
      "j= 1 j= 2 j= 3 j= 4 j= 5 j= 6 j= 7 j= 8 j= 9 \n",
      "=====\n",
      "i= 8\n",
      "j= 1 j= 2 j= 3 j= 4 j= 5 j= 6 j= 7 j= 8 j= 9 \n",
      "=====\n",
      "i= 9\n",
      "j= 1 j= 2 j= 3 j= 4 j= 5 j= 6 j= 7 j= 8 j= 9 \n",
      "=====\n"
     ]
    }
   ],
   "source": [
    "#巢狀迴圈\n",
    "for i in range(1,10):\n",
    "    print(\"i=\",i) #print(*objects, sep=' ', end='\\n', file=None, flush=False)\n",
    "    for j in range(1,10):\n",
    "        print(\"j=\",j,end=\" \") \n",
    "    print(\"\\n=====\")"
   ]
  },
  {
   "cell_type": "code",
   "execution_count": 17,
   "id": "aca4363e",
   "metadata": {},
   "outputs": [
    {
     "name": "stdout",
     "output_type": "stream",
     "text": [
      "1*1=1  1*2=2  1*3=3  1*4=4  1*5=5  1*6=6  1*7=7  1*8=8  1*9=9  \n",
      "\n",
      "2*1=2  2*2=4  2*3=6  2*4=8  2*5=10  2*6=12  2*7=14  2*8=16  2*9=18  \n",
      "\n",
      "3*1=3  3*2=6  3*3=9  3*4=12  3*5=15  3*6=18  3*7=21  3*8=24  3*9=27  \n",
      "\n",
      "4*1=4  4*2=8  4*3=12  4*4=16  4*5=20  4*6=24  4*7=28  4*8=32  4*9=36  \n",
      "\n",
      "5*1=5  5*2=10  5*3=15  5*4=20  5*5=25  5*6=30  5*7=35  5*8=40  5*9=45  \n",
      "\n",
      "6*1=6  6*2=12  6*3=18  6*4=24  6*5=30  6*6=36  6*7=42  6*8=48  6*9=54  \n",
      "\n",
      "7*1=7  7*2=14  7*3=21  7*4=28  7*5=35  7*6=42  7*7=49  7*8=56  7*9=63  \n",
      "\n",
      "8*1=8  8*2=16  8*3=24  8*4=32  8*5=40  8*6=48  8*7=56  8*8=64  8*9=72  \n",
      "\n",
      "9*1=9  9*2=18  9*3=27  9*4=36  9*5=45  9*6=54  9*7=63  9*8=72  9*9=81  \n",
      "\n"
     ]
    }
   ],
   "source": [
    "#巢狀迴圈\n",
    "for i in range(1,10): \n",
    "    for j in range(1,10):\n",
    "        print(i,\"*\",j,\"=\",i*j,end=\"  \",sep='') \n",
    "    print(\"\\n\")"
   ]
  },
  {
   "cell_type": "code",
   "execution_count": null,
   "id": "5db4cd70",
   "metadata": {},
   "outputs": [
    {
     "name": "stdout",
     "output_type": "stream",
     "text": [
      "1 * 1 = 1   1 * 2 = 2   1 * 3 = 3   1 * 4 = 4   1 * 5 = 5   1 * 6 = 6   1 * 7 = 7   1 * 8 = 8   1 * 9 = 9   \n",
      "\n",
      "2 * 1 = 2   2 * 2 = 4   2 * 3 = 6   2 * 4 = 8   2 * 5 =10   2 * 6 =12   2 * 7 =14   2 * 8 =16   2 * 9 =18   \n",
      "\n",
      "3 * 1 = 3   3 * 2 = 6   3 * 3 = 9   3 * 4 =12   3 * 5 =15   3 * 6 =18   3 * 7 =21   3 * 8 =24   3 * 9 =27   \n",
      "\n",
      "4 * 1 = 4   4 * 2 = 8   4 * 3 =12   4 * 4 =16   4 * 5 =20   4 * 6 =24   4 * 7 =28   4 * 8 =32   4 * 9 =36   \n",
      "\n",
      "5 * 1 = 5   5 * 2 =10   5 * 3 =15   5 * 4 =20   5 * 5 =25   5 * 6 =30   5 * 7 =35   5 * 8 =40   5 * 9 =45   \n",
      "\n",
      "6 * 1 = 6   6 * 2 =12   6 * 3 =18   6 * 4 =24   6 * 5 =30   6 * 6 =36   6 * 7 =42   6 * 8 =48   6 * 9 =54   \n",
      "\n",
      "7 * 1 = 7   7 * 2 =14   7 * 3 =21   7 * 4 =28   7 * 5 =35   7 * 6 =42   7 * 7 =49   7 * 8 =56   7 * 9 =63   \n",
      "\n",
      "8 * 1 = 8   8 * 2 =16   8 * 3 =24   8 * 4 =32   8 * 5 =40   8 * 6 =48   8 * 7 =56   8 * 8 =64   8 * 9 =72   \n",
      "\n",
      "9 * 1 = 9   9 * 2 =18   9 * 3 =27   9 * 4 =36   9 * 5 =45   9 * 6 =54   9 * 7 =63   9 * 8 =72   9 * 9 =81   \n",
      "\n"
     ]
    }
   ],
   "source": [
    "#巢狀迴圈\n",
    "for i in range(1,10): \n",
    "    for j in range(1,10):\n",
    "        print(f\"{i:<2d}*{j:2d} ={i*j:2d}\",end=\"   \") # \"<\": 靠左\n",
    "    print(\"\\n\")"
   ]
  },
  {
   "cell_type": "code",
   "execution_count": 18,
   "id": "01072eba",
   "metadata": {},
   "outputs": [
    {
     "name": "stdout",
     "output_type": "stream",
     "text": [
      "apple有 5 個 orange有 10 個\n"
     ]
    }
   ],
   "source": [
    "apple=5\n",
    "orange=10\n",
    "\n",
    "print(\"apple有\",apple,\"個\",\"orange有\",orange,\"個\")"
   ]
  },
  {
   "cell_type": "code",
   "execution_count": 19,
   "id": "39760373",
   "metadata": {},
   "outputs": [
    {
     "name": "stdout",
     "output_type": "stream",
     "text": [
      "apple有5個 orange有10個\n"
     ]
    }
   ],
   "source": [
    "apple=5\n",
    "orange=10\n",
    "\n",
    "print(f\"apple有{apple}個 orange有{orange}個\")"
   ]
  },
  {
   "cell_type": "code",
   "execution_count": null,
   "id": "cb25685c",
   "metadata": {},
   "outputs": [
    {
     "name": "stdout",
     "output_type": "stream",
     "text": [
      "10\n",
      "9\n",
      "8\n",
      "7\n",
      "6\n",
      "5\n",
      "4\n",
      "3\n",
      "2\n",
      "1\n"
     ]
    }
   ],
   "source": [
    "#使用while迴圈要小心產生無限迴圈\n",
    "i=10\n",
    "while(i>0):\n",
    "    print(i)\n",
    "    i-=1\n"
   ]
  },
  {
   "cell_type": "code",
   "execution_count": null,
   "id": "bd952147",
   "metadata": {},
   "outputs": [
    {
     "name": "stdout",
     "output_type": "stream",
     "text": [
      "您的身高為: 183.0 cm\n",
      "您的體重為: 100.0 kg\n",
      "您的BMI為: 29.9 (kg/m²)\n",
      "輕度肥胖\n",
      "BMI狀態為: 29.860551225775623\n",
      "～應用程式結束～\n"
     ]
    }
   ],
   "source": [
    "try:\n",
    "    height = float(input(\"請輸入身高(120-250(cm))\"))\n",
    "    if not(120 <= height <= 250):\n",
    "        raise Exception(\"身高數字需在120~250(cm)內\")\n",
    "     \n",
    "    weight = float(input(\"請輸入體重(30~200(kg))\"))\n",
    "    if not(30 <= weight <= 200):\n",
    "        raise Exception(\"體重數字需在30~200(kg)內\")\n",
    "    \n",
    "    print(\"您的身高為:\",height,\"cm\")\n",
    "    print(\"您的體重為:\",weight,\"kg\")\n",
    "         \n",
    "except ValueError as e:\n",
    "    print(\"格式錯誤\",e)\n",
    "except Exception as e:\n",
    "    print(e)\n",
    "else:\n",
    "    bmi = weight / (height / 100) ** 2\n",
    "    print(\"您的BMI為:\",round(bmi,ndigits = 1),\"(kg/m²)\") \n",
    "    if bmi<18.5:\n",
    "        print(\"體重過輕\")\n",
    "    elif 18.5<=bmi<24:\n",
    "        print(\"正常範圍\")\n",
    "    elif 24<=bmi<27:\n",
    "        print(\"過重\")\n",
    "    elif 27<=bmi<30:\n",
    "        print(\"輕度肥胖\")\n",
    "    elif 30<=bmi<35:\n",
    "        print(\"中度肥胖\")\n",
    "    else:\n",
    "        print(\"重度肥胖\")\n",
    "    \n",
    "finally:\n",
    "    print(\"～應用程式結束～\")"
   ]
  },
  {
   "cell_type": "code",
   "execution_count": null,
   "id": "b0936f6b",
   "metadata": {},
   "outputs": [
    {
     "name": "stdout",
     "output_type": "stream",
     "text": [
      "您的身高為: 183.0 cm\n",
      "您的體重為: 100.0 kg\n",
      "您的BMI為: 29.9 (kg/m²)\n",
      "BMI狀態為: 輕度肥胖\n",
      "～應用程式結束～\n"
     ]
    }
   ],
   "source": [
    "try:\n",
    "    height = float(input(\"請輸入身高(120-250(cm))\"))\n",
    "    if not(120 <= height <= 250):\n",
    "        raise Exception(\"身高數字需在120~250(cm)內\")\n",
    "     \n",
    "    weight = float(input(\"請輸入體重(30~200(kg))\"))\n",
    "    if not(30 <= weight <= 200):\n",
    "        raise Exception(\"體重數字需在30~200(kg)內\")\n",
    "    \n",
    "    print(\"您的身高為:\",height,\"cm\")\n",
    "    print(\"您的體重為:\",weight,\"kg\")\n",
    "         \n",
    "except ValueError as e:\n",
    "    print(\"格式錯誤\",e)\n",
    "except Exception as e:\n",
    "    print(e)\n",
    "else:\n",
    "    bmi = weight / (height / 100) ** 2\n",
    "    print(\"您的BMI為:\",round(bmi,ndigits = 1),\"(kg/m²)\") \n",
    "    if bmi<18.5:\n",
    "        bmi=\"過輕\"\n",
    "    elif 18.5<=bmi<24:\n",
    "        bmi=\"正常範圍\"\n",
    "    elif 24<=bmi<27:\n",
    "        bmi=\"過重\"\n",
    "    elif 27<=bmi<30:\n",
    "        bmi=\"輕度肥胖\"\n",
    "    elif 30<=bmi<35:\n",
    "        bmi=\"中度肥胖\"\n",
    "    else:\n",
    "        bmi=\"重度肥胖\"\n",
    "    print(\"BMI狀態為:\",bmi)\n",
    "    \n",
    "finally:\n",
    "    print(\"～應用程式結束～\")"
   ]
  }
 ],
 "metadata": {
  "kernelspec": {
   "display_name": "base",
   "language": "python",
   "name": "python3"
  },
  "language_info": {
   "codemirror_mode": {
    "name": "ipython",
    "version": 3
   },
   "file_extension": ".py",
   "mimetype": "text/x-python",
   "name": "python",
   "nbconvert_exporter": "python",
   "pygments_lexer": "ipython3",
   "version": "3.13.2"
  }
 },
 "nbformat": 4,
 "nbformat_minor": 5
}
