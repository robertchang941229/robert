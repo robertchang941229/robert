{
 "cells": [
  {
   "cell_type": "code",
   "execution_count": null,
   "id": "0e0fbd1f",
   "metadata": {},
   "outputs": [],
   "source": [
    "score=int(input(\"請輸入學生分數:\"))\n",
    "if score>=90:\n",
    "  grade=\"優\"\n",
    "else:\n",
    "  if score>=80:\n",
    "    grade=\"甲\"\n",
    "  else:\n",
    "    if score>=70:\n",
    "      grade='乙'\n",
    "    else:\n",
    "      if score>=60:\n",
    "        grade='丙'\n",
    "      else:\n",
    "        grade='丁'\n",
    "print(grade)"
   ]
  },
  {
   "cell_type": "code",
   "execution_count": null,
   "id": "d280e2a9",
   "metadata": {},
   "outputs": [],
   "source": [
    "score=int(input(\"請輸入學生分數:\"))\n",
    "if score>=90:\n",
    "  grade=\"優\"\n",
    "elif score>=80:\n",
    "  grade=\"甲\"\n",
    "elif score>=70:\n",
    "  grade='乙'\n",
    "elif score>=60:\n",
    "  grade='丙'\n",
    "else:\n",
    "  grade='丁'\n",
    "\n",
    "print(grade)"
   ]
  }
 ],
 "metadata": {
  "kernelspec": {
   "display_name": "base",
   "language": "python",
   "name": "python3"
  },
  "language_info": {
   "name": "python",
   "version": "3.13.2"
  }
 },
 "nbformat": 4,
 "nbformat_minor": 5
}
