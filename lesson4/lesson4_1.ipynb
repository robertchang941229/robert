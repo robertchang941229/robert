{
 "cells": [
  {
   "cell_type": "code",
   "execution_count": null,
   "id": "e740d94b",
   "metadata": {},
   "outputs": [
    {
     "name": "stdout",
     "output_type": "stream",
     "text": [
      "3數的加總是: 114.0\n"
     ]
    }
   ],
   "source": [
    "value1=float(input(\"請輸入第1個值:\"))\n",
    "value2=float(input(\"請輸入第2個值:\"))\n",
    "value3=float(input(\"請輸入第3個值:\"))\n",
    "\n",
    "total = value1 + value2 + value3\n",
    "print(\"3數的加總是:\",total)"
   ]
  },
  {
   "cell_type": "code",
   "execution_count": 5,
   "id": "65821931",
   "metadata": {},
   "outputs": [
    {
     "name": "stdout",
     "output_type": "stream",
     "text": [
      "3 5.0 您好 True 78.9\n"
     ]
    }
   ],
   "source": [
    "print(3,\"5.0\",\"您好\",True,78.9)"
   ]
  },
  {
   "cell_type": "code",
   "execution_count": 8,
   "id": "81a45842",
   "metadata": {},
   "outputs": [
    {
     "name": "stdout",
     "output_type": "stream",
     "text": [
      "n= 50\n"
     ]
    }
   ],
   "source": [
    "n=25\n",
    "n=n+25\n",
    "print(\"n=\",n)"
   ]
  },
  {
   "cell_type": "code",
   "execution_count": 9,
   "id": "dcb0e478",
   "metadata": {},
   "outputs": [
    {
     "name": "stdout",
     "output_type": "stream",
     "text": [
      "n= 100\n"
     ]
    }
   ],
   "source": [
    "#複合指定運算子\n",
    "#+=\n",
    "#-=\n",
    "#*=\n",
    "\n",
    "n=25\n",
    "n+=25\n",
    "n*=2\n",
    "print(\"n=\",n)\n"
   ]
  },
  {
   "cell_type": "code",
   "execution_count": 11,
   "id": "f5d8d514",
   "metadata": {},
   "outputs": [
    {
     "name": "stdout",
     "output_type": "stream",
     "text": [
      "3數的加總是: 170.0\n"
     ]
    }
   ],
   "source": [
    "total=0\n",
    "value=float(input(\"請輸入第1個值:\"))\n",
    "total+=value\n",
    "\n",
    "value=float(input(\"請輸入第2個值:\"))\n",
    "total+=value\n",
    "\n",
    "value=float(input(\"請輸入第3個值:\"))\n",
    "total+=value\n",
    "\n",
    "print(\"3數的加總是:\",total)"
   ]
  },
  {
   "cell_type": "code",
   "execution_count": 18,
   "id": "9c8bcf86",
   "metadata": {},
   "outputs": [
    {
     "name": "stdout",
     "output_type": "stream",
     "text": [
      "a= 3.0\n",
      "b= 4.0\n",
      "斜邊為 5.0\n"
     ]
    }
   ],
   "source": [
    "#直角三角形\n",
    "import math\n",
    "a=float(input(\"請輸入a=\"))\n",
    "b=float(input(\"請輸入b=\"))\n",
    "c=math.sqrt(a**2+b**2)\n",
    "print(\"a=\",a)\n",
    "print(\"b=\",b)\n",
    "print(\"斜邊為\",c)"
   ]
  },
  {
   "cell_type": "code",
   "execution_count": null,
   "id": "6711b2af",
   "metadata": {},
   "outputs": [
    {
     "name": "stdout",
     "output_type": "stream",
     "text": [
      "直角三角形的角度是: 53.13010235415599\n"
     ]
    }
   ],
   "source": [
    "import math\n",
    "#asin(對邊/斜邊)、radian(弳度、弧度)、degrees(角度)\n",
    "side=float(input(\"請輸入斜邊:\"))\n",
    "other_side=float(input(\"請輸入對邊:\"))\n",
    "radian=math.asin(other_side/side)  #角度轉弧度(pi/180)\n",
    "degree=math.degrees(radian)        #弧度轉角度(180/pi)\n",
    "\n",
    "print(\"直角三角形的角度是:\",degree)"
   ]
  },
  {
   "cell_type": "code",
   "execution_count": null,
   "id": "72fd7825",
   "metadata": {},
   "outputs": [
    {
     "data": {
      "text/plain": [
       "1.0810874155219827"
      ]
     },
     "execution_count": 22,
     "metadata": {},
     "output_type": "execute_result"
    }
   ],
   "source": [
    "#標準差\n",
    "import statistics\n",
    "statistics.stdev([1.5,2.5,2.5,2.75,3.25,4.75])"
   ]
  }
 ],
 "metadata": {
  "kernelspec": {
   "display_name": "base",
   "language": "python",
   "name": "python3"
  },
  "language_info": {
   "codemirror_mode": {
    "name": "ipython",
    "version": 3
   },
   "file_extension": ".py",
   "mimetype": "text/x-python",
   "name": "python",
   "nbconvert_exporter": "python",
   "pygments_lexer": "ipython3",
   "version": "3.13.2"
  }
 },
 "nbformat": 4,
 "nbformat_minor": 5
}
